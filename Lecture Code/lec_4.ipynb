{
 "cells": [
  {
   "cell_type": "code",
   "execution_count": 2,
   "metadata": {},
   "outputs": [
    {
     "name": "stdout",
     "output_type": "stream",
     "text": [
      "True positives:  36073\n",
      "False positives:  3019\n",
      "Infected:  40067\n",
      "True positive rate:  0.9003169690767964\n",
      "False positive rate:  0.050372916423339395\n",
      "Positive predictive value:  0.9227719226440192\n",
      "Negative predictive value:  0.9496270835766606\n"
     ]
    }
   ],
   "source": [
    "import random as rnd\n",
    "\n",
    "numberSamples = 100000\n",
    "\n",
    "def bernoulli(p):\n",
    "    return 1 if rnd.random() < p else 0\n",
    "\n",
    "delta = 0.4\n",
    "alpha = 0.9\n",
    "beta = 0.05\n",
    "\n",
    "numTruePositives = 0\n",
    "numFalsePositives = 0\n",
    "numInfected = 0\n",
    "\n",
    "for i in range(numberSamples):\n",
    "    if bernoulli(delta):\n",
    "        numInfected += 1\n",
    "        if bernoulli(alpha):\n",
    "            numTruePositives += 1\n",
    "    else:\n",
    "        if bernoulli(beta):\n",
    "            numFalsePositives += 1\n",
    "\n",
    "print(\"True positives: \", numTruePositives)\n",
    "print(\"False positives: \", numFalsePositives)\n",
    "print(\"Infected: \", numInfected)\n",
    "print(\"True positive rate: \", numTruePositives / numInfected)\n",
    "print(\"False positive rate: \", numFalsePositives / (numberSamples - numInfected))\n",
    "print(\"Positive predictive value: \", numTruePositives / (numTruePositives + numFalsePositives))\n",
    "print(\"Negative predictive value: \", (numberSamples - numInfected - numFalsePositives) / (numberSamples - numInfected))\n"
   ]
  }
 ],
 "metadata": {
  "kernelspec": {
   "display_name": "Python 3",
   "language": "python",
   "name": "python3"
  },
  "language_info": {
   "codemirror_mode": {
    "name": "ipython",
    "version": 3
   },
   "file_extension": ".py",
   "mimetype": "text/x-python",
   "name": "python",
   "nbconvert_exporter": "python",
   "pygments_lexer": "ipython3",
   "version": "3.9.6"
  }
 },
 "nbformat": 4,
 "nbformat_minor": 2
}
