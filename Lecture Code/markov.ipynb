{
 "cells": [
  {
   "cell_type": "code",
   "execution_count": 41,
   "metadata": {},
   "outputs": [],
   "source": [
    "import torch\n",
    "import numpy as np\n",
    "import pandas as pd\n",
    "import random"
   ]
  },
  {
   "cell_type": "code",
   "execution_count": 42,
   "metadata": {},
   "outputs": [
    {
     "name": "stdout",
     "output_type": "stream",
     "text": [
      "[[0.8  0.2  0.  ]\n",
      " [0.   0.6  0.4 ]\n",
      " [0.05 0.   0.95]]\n"
     ]
    }
   ],
   "source": [
    "t = np.array([[0.8, 0.2, 0], \n",
    "              [0, 0.6, 0.4], \n",
    "              [0.05, 0, 0.95]])\n",
    "print(t)"
   ]
  },
  {
   "cell_type": "code",
   "execution_count": 43,
   "metadata": {},
   "outputs": [
    {
     "name": "stdout",
     "output_type": "stream",
     "text": [
      "[[0.64   0.28   0.08  ]\n",
      " [0.02   0.36   0.62  ]\n",
      " [0.0875 0.01   0.9025]]\n"
     ]
    }
   ],
   "source": [
    "t_2 = t @ t\n",
    "\n",
    "print(t_2)"
   ]
  },
  {
   "cell_type": "code",
   "execution_count": 44,
   "metadata": {},
   "outputs": [
    {
     "name": "stdout",
     "output_type": "stream",
     "text": [
      "[[0.516    0.296    0.188   ]\n",
      " [0.047    0.22     0.733   ]\n",
      " [0.115125 0.0235   0.861375]]\n"
     ]
    }
   ],
   "source": [
    "t_3 = t_2 @ t\n",
    "\n",
    "print(t_3)"
   ]
  },
  {
   "cell_type": "code",
   "execution_count": 45,
   "metadata": {},
   "outputs": [
    {
     "name": "stdout",
     "output_type": "stream",
     "text": [
      "[[0.35261    0.25292    0.39447   ]\n",
      " [0.0986175  0.09969    0.8016925 ]\n",
      " [0.14952031 0.04930875 0.80117094]]\n"
     ]
    }
   ],
   "source": [
    "t_5 = t_3 @ t_2\n",
    "\n",
    "print(t_5)"
   ]
  },
  {
   "cell_type": "code",
   "execution_count": 46,
   "metadata": {},
   "outputs": [
    {
     "name": "stdout",
     "output_type": "stream",
     "text": [
      "0.1818 0.0909 0.7273\n",
      "0.1818 0.0909 0.7273\n",
      "0.1818 0.0909 0.7273\n"
     ]
    }
   ],
   "source": [
    "t_50 = np.linalg.matrix_power(t, 50)\n",
    "\n",
    "# Assuming t_50 is already defined as a NumPy array\n",
    "for row in t_50:\n",
    "    print(\" \".join(f\"{elem:.4f}\" for elem in row))"
   ]
  },
  {
   "cell_type": "code",
   "execution_count": null,
   "metadata": {},
   "outputs": [],
   "source": []
  }
 ],
 "metadata": {
  "kernelspec": {
   "display_name": "Python 3",
   "language": "python",
   "name": "python3"
  },
  "language_info": {
   "codemirror_mode": {
    "name": "ipython",
    "version": 3
   },
   "file_extension": ".py",
   "mimetype": "text/x-python",
   "name": "python",
   "nbconvert_exporter": "python",
   "pygments_lexer": "ipython3",
   "version": "3.9.6"
  }
 },
 "nbformat": 4,
 "nbformat_minor": 2
}
