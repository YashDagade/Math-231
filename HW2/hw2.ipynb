{
 "cells": [
  {
   "cell_type": "code",
   "execution_count": 22,
   "metadata": {},
   "outputs": [
    {
     "data": {
      "text/plain": [
       "0.16643753582955767"
      ]
     },
     "execution_count": 22,
     "metadata": {},
     "output_type": "execute_result"
    }
   ],
   "source": [
    "from scipy.stats import binom # For question 3\n",
    "\n",
    "# Constants\n",
    "total_pairs = 162\n",
    "p_not_show = 0.1\n",
    "p_show = 0.9\n",
    "max_not_showing_pairs = 12  # Calculated as pairs corresponding to 24 individuals\n",
    "\n",
    "# Probability calculation using binomial distribution\n",
    "probability_overbooked = sum(binom.pmf(k, total_pairs, p_not_show) for k in range(max_not_showing_pairs + 1))\n",
    "\n",
    "probability_overbooked\n"
   ]
  },
  {
   "cell_type": "code",
   "execution_count": 27,
   "metadata": {},
   "outputs": [
    {
     "name": "stdout",
     "output_type": "stream",
     "text": [
      "Out of 1,000,000 samples:\n",
      "Correct identifications: 941,211 (94.12%)\n",
      "Misidentifications: 58,789 (5.88%)\n",
      "Misidentifications from Group A: 49,561 (84.30%)\n"
     ]
    }
   ],
   "source": [
    "# 4.7\n",
    "import random as rnd\n",
    "\n",
    "def bernoulli(p):\n",
    "    return 1 if rnd.random() <= p else 0\n",
    "\n",
    "numberSamples = 1000000\n",
    "\n",
    "P_A = 0.10  # Probability of being in Group A\n",
    "P_B = 0.90  # Probability of being in Group B\n",
    "P_C_given_A = 0.50  # Correct identification for Group A\n",
    "P_C_given_B = 0.99  # Correct identification for Group B\n",
    "\n",
    "numCorrect = 0\n",
    "numMisidentified_A = 0\n",
    "numMisidentifications = 0\n",
    "\n",
    "for k in range(numberSamples):\n",
    "    if bernoulli(P_A):\n",
    "        group = 'A'\n",
    "        correct = bernoulli(P_C_given_A)\n",
    "    else:\n",
    "        group = 'B'\n",
    "        correct = bernoulli(P_C_given_B)\n",
    "    \n",
    "    if correct:\n",
    "        numCorrect += 1\n",
    "    else:\n",
    "        numMisidentifications += 1\n",
    "        if group == 'A':\n",
    "            numMisidentified_A += 1\n",
    "\n",
    "print(f\"Out of {numberSamples:,} samples:\")\n",
    "print(f\"Correct identifications: {numCorrect:,} ({numCorrect/numberSamples:.2%})\")\n",
    "print(f\"Misidentifications: {numMisidentifications:,} ({numMisidentifications/numberSamples:.2%})\")\n",
    "print(f\"Misidentifications from Group A: {numMisidentified_A:,} ({numMisidentified_A/numMisidentifications:.2%})\")\n"
   ]
  },
  {
   "cell_type": "code",
   "execution_count": 16,
   "metadata": {},
   "outputs": [
    {
     "data": {
      "text/markdown": [
       "### 1. Rolling an even number more than 70% of the time (6-sided die)\n",
       "\n",
       "|   Number of Rolls (n) |   Threshold (k) |   Exact Probability |   Normal Approx. (No CC) |   Normal Approx. (With CC) |\n",
       "|-----------------------|-----------------|---------------------|--------------------------|----------------------------|\n",
       "|                    10 |               8 |            0.054688 |                  0.02889 |                   0.056923 |\n",
       "|                   100 |              71 |            1.6e-05  |                  1.3e-05 |                   2.1e-05  |\n",
       "|                  1000 |             701 |            0        |                  0       |                   0        |\n"
      ],
      "text/plain": [
       "<IPython.core.display.Markdown object>"
      ]
     },
     "metadata": {},
     "output_type": "display_data"
    },
    {
     "data": {
      "text/markdown": [
       "### 2. Rolling a 1 more than 20% of the time (6-sided die)\n",
       "\n",
       "|   Number of Rolls (n) |   Threshold (k) |   Exact Probability |   Normal Approx. (No CC) |   Normal Approx. (With CC) |\n",
       "|-----------------------|-----------------|---------------------|--------------------------|----------------------------|\n",
       "|                    10 |               3 |            0.224773 |                 0.12895  |                   0.23975  |\n",
       "|                   100 |              21 |            0.151888 |                 0.122464 |                   0.151836 |\n",
       "|                  1000 |             201 |            0.002488 |                 0.001788 |                   0.002047 |\n"
      ],
      "text/plain": [
       "<IPython.core.display.Markdown object>"
      ]
     },
     "metadata": {},
     "output_type": "display_data"
    },
    {
     "data": {
      "text/markdown": [
       "### 3. Rolling a 1 more than 9% of the time (20-sided die)\n",
       "\n",
       "|   Number of Rolls (n) |   Threshold (k) |   Exact Probability |   Normal Approx. (No CC) |   Normal Approx. (With CC) |\n",
       "|-----------------------|-----------------|---------------------|--------------------------|----------------------------|\n",
       "|                    10 |               1 |            0.401263 |                 0.23408  |                   0.5      |\n",
       "|                   100 |              10 |            0.028188 |                 0.010891 |                   0.019474 |\n",
       "|                  1000 |              91 |            0        |                 0        |                   0        |\n"
      ],
      "text/plain": [
       "<IPython.core.display.Markdown object>"
      ]
     },
     "metadata": {},
     "output_type": "display_data"
    },
    {
     "data": {
      "text/plain": [
       "'\\nDiscuss any trends you see. It seems like as the number of rolls increases the proabablity of getting more than X% of that number decreases How does the approximation behave as n increases or as thje probablities of the events decrease? How does the \\nregion you are integrating the normal curve over change as n increase? Does this have any implications for the approximation by a normal?\\n'"
      ]
     },
     "execution_count": 16,
     "metadata": {},
     "output_type": "execute_result"
    }
   ],
   "source": [
    "# Problem 5.1\n",
    "\n",
    "import math\n",
    "import scipy.integrate as integrate\n",
    "from scipy.stats import norm\n",
    "from IPython.display import Markdown, display\n",
    "from tabulate import tabulate\n",
    "\n",
    "# Define the Bernoulli function as provided\n",
    "def bernoulli(p):\n",
    "    x = rnd.random()\n",
    "    if x <= p:\n",
    "        return 1\n",
    "    else:\n",
    "        return 0\n",
    "\n",
    "# Function to calculate exact binomial probability P(X >= k)\n",
    "def exact_probability(n, p, k):\n",
    "    return sum(binom.pmf(x, n, p) for x in range(k, n+1)) # this is probablity mass function \n",
    "\n",
    "# Function without continuity correction\n",
    "def normal_approximation(n, p, k):\n",
    "    mu = n * p\n",
    "    sigma = math.sqrt(n * p * (1 - p))\n",
    "    z = (k - mu) / sigma\n",
    "    return 1 - norm.cdf(z)\n",
    "\n",
    "# Function with continuity correction\n",
    "def normal_approximation_cc(n, p, k):\n",
    "    mu = n * p\n",
    "    sigma = math.sqrt(n * p * (1 - p))\n",
    "    # Apply continuity correction: subtract 0.5 for P(X >= k)\n",
    "    z = (k - 0.5 - mu) / sigma\n",
    "    return 1 - norm.cdf(z)\n",
    "\n",
    "# Define the scenarios for each problem\n",
    "\n",
    "rolls = [10, 100, 1000]\n",
    "\n",
    "# creating a list of dictionaires\n",
    "\n",
    "scenarios = [\n",
    "    {\n",
    "        \"problem\": \"1. Rolling an even number more than 70% of the time (6-sided die)\",\n",
    "        \"p\": 0.5,\n",
    "        \"threshold_percent\": 0.7\n",
    "    },\n",
    "    {\n",
    "        \"problem\": \"2. Rolling a 1 more than 20% of the time (6-sided die)\",\n",
    "        \"p\": 1/6,\n",
    "        \"threshold_percent\": 0.2\n",
    "    },\n",
    "    {\n",
    "        \"problem\": \"3. Rolling a 1 more than 9% of the time (20-sided die)\",\n",
    "        \"p\": 1/20,\n",
    "        \"threshold_percent\": 0.09\n",
    "    }\n",
    "]\n",
    "\n",
    "# Function to process each scenario and generate tables\n",
    "def process_scenarios(scenarios):\n",
    "    for scenario in scenarios:\n",
    "        problem = scenario[\"problem\"]\n",
    "        p = scenario[\"p\"]\n",
    "        roll_counts = rolls\n",
    "        threshold = scenario[\"threshold_percent\"]\n",
    "        \n",
    "        table = []\n",
    "        headers = [\"Number of Rolls (n)\", \"Threshold (k)\", \"Exact Probability\", \n",
    "                   \"Normal Approx. (No CC)\", \"Normal Approx. (With CC)\"]\n",
    "        \n",
    "        for n in roll_counts:\n",
    "            # Calculate threshold k = floor(a*n) + 1\n",
    "            a_n = threshold * n\n",
    "            k = math.floor(a_n) + 1 \n",
    "            \n",
    "            # Exact probability\n",
    "            exact_prob = exact_probability(n, p, k)\n",
    "            \n",
    "            # Normal approximation without continuity correction\n",
    "            normal_no_cc = normal_approximation(n, p, k)\n",
    "            \n",
    "            # Normal approximation with continuity correction\n",
    "            normal_cc = normal_approximation_cc(n, p, k)\n",
    "            \n",
    "            # Append the results to the table\n",
    "            table.append([\n",
    "                n,\n",
    "                k,\n",
    "                f\"{exact_prob:.6f}\",\n",
    "                f\"{normal_no_cc:.6f}\",\n",
    "                f\"{normal_cc:.6f}\"\n",
    "            ])\n",
    "        \n",
    "        # Display the table using tabulate and Markdown\n",
    "        markdown_table = tabulate(table, headers=headers, tablefmt=\"github\")\n",
    "        display(Markdown(f\"### {problem}\\n\\n{markdown_table}\\n\"))\n",
    "        \n",
    "# Process and display all scenarios\n",
    "process_scenarios(scenarios)\n",
    "\n",
    "\n",
    "\n",
    "# Discussion:\n",
    "\n",
    "'''\n",
    "Discuss any trends you see. \n",
    "\n",
    "    As the number of rolls increases, the probability of getting more than X% of that number decreases. \n",
    "    This decrease seems to follow a non-linear pattern.\n",
    "\n",
    "How does the approximation behave as n increases or as thje probablities of the events decrease? \n",
    "    The approximation seems to get more accurate as n increases, the approximation also seems to get more accurate as the \n",
    "    probability of the event approaches 0.5 - bc yk binomial distribution is symmetric around 0.5\n",
    "\n",
    "How does the  region you are integrating the normal curve over change as n increase? \n",
    "    The region seems to get smaller as n increases\n",
    "\n",
    "Does this have any implications for the approximation by a normal?\n",
    "    The normal approximation seems to get more accurate as n increases\n",
    "'''\n"
   ]
  },
  {
   "cell_type": "code",
   "execution_count": 17,
   "metadata": {},
   "outputs": [
    {
     "name": "stderr",
     "output_type": "stream",
     "text": [
      "Simulations: 100%|██████████| 10000/10000 [00:21<00:00, 465.20it/s]"
     ]
    },
    {
     "name": "stdout",
     "output_type": "stream",
     "text": [
      "\n",
      "Empirical Probability that |I_hat - I| <= 0.19: 0.9074\n"
     ]
    },
    {
     "name": "stderr",
     "output_type": "stream",
     "text": [
      "\n"
     ]
    }
   ],
   "source": [
    "import tpqm\n",
    "\n",
    "# Define the function to integrate\n",
    "def f(x):\n",
    "    return math.cos(x) * math.sin(2 * x) + 1\n",
    "\n",
    "# Define the rectangle R - graphed on desmos for that\n",
    "x_min, x_max = 0, 8\n",
    "y_min, y_max = 0, 2  \n",
    "area_R = (x_max - x_min) * (y_max - y_min)  \n",
    "\n",
    "# Exact value of I\n",
    "I_exact = 8.6687  # As computed from symbolab\n",
    "\n",
    "# Monte Carlo estimation function\n",
    "def monte_carlo_estimate(n):\n",
    "    count = 0\n",
    "    for _ in range(n):\n",
    "        x = rnd.uniform(x_min, x_max)\n",
    "        y = rnd.uniform(y_min, y_max)\n",
    "        if y <= f(x):\n",
    "            count += 1\n",
    "    return (count / n) * area_R\n",
    "\n",
    "# Simulation parameters\n",
    "n = 5000\n",
    "delta = 0.19  # As determined in Question 2\n",
    "m = 10000  # Number of simulations\n",
    "\n",
    "# Perform m simulations\n",
    "success = 0\n",
    "for _ in tqdm(range(m), desc=\"Simulations\"):\n",
    "    I_hat = monte_carlo_estimate(n)\n",
    "    if abs(I_hat - I_exact) <= delta:\n",
    "        success += 1\n",
    "\n",
    "# Calculate empirical probability\n",
    "empirical_probability = success / m\n",
    "print(f\"\\nEmpirical Probability that |I_hat - I| <= {delta}: {empirical_probability:.4f}\")\n"
   ]
  }
 ],
 "metadata": {
  "kernelspec": {
   "display_name": "Python 3",
   "language": "python",
   "name": "python3"
  },
  "language_info": {
   "codemirror_mode": {
    "name": "ipython",
    "version": 3
   },
   "file_extension": ".py",
   "mimetype": "text/x-python",
   "name": "python",
   "nbconvert_exporter": "python",
   "pygments_lexer": "ipython3",
   "version": "3.9.6"
  }
 },
 "nbformat": 4,
 "nbformat_minor": 2
}
