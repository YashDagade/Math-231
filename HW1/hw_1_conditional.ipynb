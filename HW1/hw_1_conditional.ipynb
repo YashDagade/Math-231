{
 "cells": [
  {
   "cell_type": "code",
   "execution_count": 24,
   "metadata": {},
   "outputs": [],
   "source": [
    "import random as rnd"
   ]
  },
  {
   "cell_type": "markdown",
   "metadata": {},
   "source": [
    "# 4.1\n",
    "\n",
    "### Analytical Answer\n",
    "\n",
    "We are looking for $P(X \\text{ divisible by } 3 \\mid X \\geq 5  and \\leq 9)$, where $X$ is a uniformly drawn integer between 1 and 9.\n",
    "\n",
    "The integers greater than or equal to 5 are: $\\{5, 6, 7, 8, 9\\}$. Among these, the numbers divisible by 3 are: $\\{6, 9\\}$.\n",
    "\n",
    "Thus, the probability is:\n",
    "\n",
    "$$\n",
    "P(X \\text{ divisible by } 3 \\mid X \\geq 5) = \\frac{\\text{Number of favorable outcomes}}{\\text{Total outcomes}} = \\frac{2}{5}\n",
    "$$\n",
    "\n",
    "So, the analytical answer is $\\frac{2}{5} = 0.4$.\n"
   ]
  },
  {
   "cell_type": "code",
   "execution_count": 25,
   "metadata": {},
   "outputs": [
    {
     "name": "stdout",
     "output_type": "stream",
     "text": [
      "Sample size: 100, Estimated Probability: 0.4200\n",
      "Sample size: 1000, Estimated Probability: 0.3870\n",
      "Sample size: 10000, Estimated Probability: 0.4040\n",
      "Sample size: 100000, Estimated Probability: 0.4037\n"
     ]
    }
   ],
   "source": [
    "# this is the compuataional answer\n",
    "\n",
    "# Function to check if a number is divisible by 3\n",
    "def is_divisible_by_3(x):\n",
    "    return x % 3 == 0\n",
    "\n",
    "# Simulation function\n",
    "def simulate_prob_divisible_by_3_given_ge_5(num_samples):\n",
    "    favorable = 0\n",
    "    total = 0\n",
    "    for _ in range(num_samples):\n",
    "        x = rnd.randint(5, 9)  # Draw an integer between 5 and 9\n",
    "        total += 1\n",
    "        if is_divisible_by_3(x):\n",
    "            favorable += 1\n",
    "    return favorable / total\n",
    "\n",
    "# Test with increasing sample sizes\n",
    "for num_samples in [100, 1000, 10000, 100000]:\n",
    "    estimated_prob = simulate_prob_divisible_by_3_given_ge_5(num_samples)\n",
    "    print(f\"Sample size: {num_samples}, Estimated Probability: {estimated_prob:.4f}\")\n"
   ]
  },
  {
   "cell_type": "markdown",
   "metadata": {},
   "source": [
    "# Problem 2\n",
    "\n",
    "#### 1. What is the probability that a 3 is chosen?\n",
    "\n",
    "The probability of picking the odd box is $\\frac{1}{2}$, and given that the odd box is chosen, the probability of selecting the ball numbered 3 is $\\frac{1}{3}$. Therefore, the overall probability of choosing 3 is:\n",
    "\n",
    "$$\n",
    "P(\\text{3 is chosen}) = P(\\text{odd box}) \\cdot P(\\text{3} \\mid \\text{odd box}) = \\frac{1}{2} \\times \\frac{1}{3} = \\frac{1}{6}\n",
    "$$\n",
    "\n",
    "#### 2. What is the probability a number less than or equal to 2 is chosen?\n",
    "\n",
    "The number 1 is in the odd box, and the number 2 is in the even box.\n",
    "\n",
    "- Probability of choosing the odd box and getting 1:\n",
    "  $$\n",
    "  P(\\text{1 is chosen}) = P(\\text{odd box}) \\cdot P(\\text{1} \\mid \\text{odd box}) = \\frac{1}{2} \\times \\frac{1}{3} = \\frac{1}{6}\n",
    "  $$\n",
    "\n",
    "- Probability of choosing the even box and getting 2:\n",
    "  $$\n",
    "  P(\\text{2 is chosen}) = P(\\text{even box}) \\cdot P(\\text{2} \\mid \\text{even box}) = \\frac{1}{2} \\times \\frac{1}{2} = \\frac{1}{4}\n",
    "  $$\n",
    "\n",
    "Thus, the total probability of choosing a number less than or equal to 2 is:\n",
    "\n",
    "$$\n",
    "P(\\text{number} \\leq 2) = \\frac{1}{6} + \\frac{1}{4} = \\frac{2}{12} + \\frac{3}{12} = \\frac{5}{12}\n",
    "$$\n",
    "\n",
    "#### 3. How does this distribution compare to picking a number uniformly from $\\{1, 2, 3, 4, 5\\}$?\n",
    "\n",
    "In the given procedure, the probability distribution on the set $\\{1, 2, 3, 4, 5\\}$ is not uniform. The probabilities of choosing each number are:\n",
    "\n",
    "- $P(1) = \\frac{1}{6}$\n",
    "- $P(2) = \\frac{1}{4}$\n",
    "- $P(3) = \\frac{1}{6}$\n",
    "- $P(4) = \\frac{1}{4}$\n",
    "- $P(5) = \\frac{1}{6}$\n",
    "\n",
    "In a uniform distribution over $\\{1, 2, 3, 4, 5\\}$, each number would have a probability of $\\frac{1}{5} = 0.2$, but as shown, the probabilities in this procedure vary between $\\frac{1}{6}$ and $\\frac{1}{4}$. Therefore, this method does not produce a uniform distribution.\n"
   ]
  },
  {
   "cell_type": "markdown",
   "metadata": {},
   "source": [
    "#### 1. What is the chance of winning a car if one switches when offered?\n",
    "\n",
    "The total probability of winning by switching when offered is:\n",
    "\n",
    "$$\n",
    "P(\\text{win} \\mid \\text{switch}) = p \\cdot \\frac{2}{3} + (1 - p) \\cdot 0 = \\frac{2p}{3}\n",
    "$$\n",
    "\n",
    "#### 2. What is the chance of winning a car if one never switches when offered?\n",
    "\n",
    "The total probability of winning by never switching is:\n",
    "\n",
    "$$\n",
    "P(\\text{win} \\mid \\text{no switch}) = p \\cdot \\frac{1}{3} + (1 - p) \\cdot \\frac{1}{3} = \\frac{1}{3}\n",
    "$$\n",
    "\n",
    "#### 3. Is there a value of \\( p \\) where it no longer matters if one switches or not?\n",
    "\n",
    "To find this value, we set the two probabilities equal:\n",
    "\n",
    "$$\n",
    "\\frac{2p}{3} = \\frac{1}{3}\n",
    "$$\n",
    "\n",
    "Solving for \\( p \\):\n",
    "\n",
    "$$\n",
    "2p = 1 \\\\\n",
    "p = \\frac{1}{2}\n",
    "$$\n",
    "\n",
    "Thus, when $p = \\frac{1}{2}$, it no longer matters whether one switches or not. At this point, both strategies (always switch when offered and never switch when offered) give a 1/3 chance of winning.\n"
   ]
  },
  {
   "cell_type": "code",
   "execution_count": 40,
   "metadata": {},
   "outputs": [
    {
     "name": "stdout",
     "output_type": "stream",
     "text": [
      "p = 0.0: Switch prob = 0.0000, No switch prob = 0.3360\n",
      "p = 0.1: Switch prob = 0.0662, No switch prob = 0.3326\n",
      "p = 0.2: Switch prob = 0.1343, No switch prob = 0.3358\n",
      "p = 0.3: Switch prob = 0.2007, No switch prob = 0.3352\n",
      "p = 0.4: Switch prob = 0.2664, No switch prob = 0.3350\n",
      "p = 0.5: Switch prob = 0.3340, No switch prob = 0.3337\n",
      "p = 0.6: Switch prob = 0.3993, No switch prob = 0.3335\n",
      "p = 0.7: Switch prob = 0.4672, No switch prob = 0.3311\n",
      "p = 0.8: Switch prob = 0.5328, No switch prob = 0.3357\n",
      "p = 0.9: Switch prob = 0.6013, No switch prob = 0.3303\n",
      "p = 1.0: Switch prob = 0.6680, No switch prob = 0.3348\n"
     ]
    },
    {
     "data": {
      "image/png": "[encoded data removed]",
      "text/plain": [
       "<Figure size 1000x600 with 1 Axes>"
      ]
     },
     "metadata": {},
     "output_type": "display_data"
    }
   ],
   "source": [
    "import matplotlib.pyplot as plt\n",
    "\n",
    "def setup_doors(n):\n",
    "    doors = [\"Goat\"] * n\n",
    "    car_door = rnd.randint(0, n-1)\n",
    "    doors[car_door] = \"Car\"\n",
    "    return doors\n",
    "\n",
    "def is_normal_monty(p):\n",
    "    return rnd.random() < p\n",
    "\n",
    "def run_game(n, p, switch_policy):\n",
    "    doors = setup_doors(n)\n",
    "    player_choice = rnd.randint(0, n-1)\n",
    "    \n",
    "    if is_normal_monty(p):\n",
    "        # Normal Monty: Always offers to switch\n",
    "        if doors[player_choice] == \"Car\":\n",
    "            return not switch_policy  # Win if don't switch, lose if switch\n",
    "        else:\n",
    "            return switch_policy  # Win if switch, lose if don't switch\n",
    "    else:\n",
    "        # Mean Monty: Only offers to switch if player chose car\n",
    "        if doors[player_choice] == \"Car\":\n",
    "            return not switch_policy  # Win if don't switch, lose if switch\n",
    "        else:\n",
    "            return False  # Always lose with mean Monty if didn't choose car\n",
    "\n",
    "def simulate_games(n, p, num_games, switch_policy):\n",
    "    wins = 0\n",
    "    for _ in range(num_games):\n",
    "        if run_game(n, p, switch_policy):\n",
    "            wins += 1\n",
    "    return wins / num_games\n",
    "\n",
    "\n",
    "\n",
    "# Simulation parameters\n",
    "n = 3  # Number of doors\n",
    "num_games = 100000  # Number of games per simulation\n",
    "p_values = [0, 0.1, 0.2, 0.3, 0.4, 0.5, 0.6, 0.7, 0.8, 0.9, 1]\n",
    "\n",
    "switch_probs = []\n",
    "no_switch_probs = []\n",
    "\n",
    "for p in p_values:\n",
    "    switch_prob = simulate_games(n, p, num_games, True)\n",
    "    no_switch_prob = simulate_games(n, p, num_games, False)\n",
    "    switch_probs.append(switch_prob)\n",
    "    no_switch_probs.append(no_switch_prob)\n",
    "    print(f\"p = {p:.1f}: Switch prob = {switch_prob:.4f}, No switch prob = {no_switch_prob:.4f}\")\n",
    "\n",
    "\n",
    "plt.figure(figsize=(10, 6))\n",
    "plt.plot(p_values, switch_probs, label=\"Switch when offered\")\n",
    "plt.plot(p_values, no_switch_probs, label=\"Don't switch when offered\")\n",
    "plt.xlabel(\"Probability of Normal Monty (p)\")\n",
    "plt.ylabel(\"Probability of Winning\")\n",
    "plt.title(\"Fickle Monty Hall Problem\")\n",
    "plt.legend()\n",
    "plt.show()\n",
    "\n",
    "# Theoretical probabilities\n",
    "theoretical_switch = [2*p/3 for p in p_values]\n",
    "theoretical_no_switch = [1/3] * len(p_values)"
   ]
  },
  {
   "cell_type": "markdown",
   "metadata": {},
   "source": [
    "The probability of the other side being white, given that one side is black, is:\n",
    "\n",
    "$$\n",
    "P(A \\mid B) = \\frac{P(\\text{black-white})}{P(\\text{black-white}) + P(\\text{black-black})}\n",
    "$$\n",
    "\n",
    "Hence it should be (plugging and chugging the values):\n",
    "\n",
    "$$\n",
    "P(A \\mid B) = \\frac{0.5}{0.5 + 0.3} = \\frac{0.5}{0.8} = 0.625\n",
    "$$\n",
    "\n",
    "Thus, the exact probability is \\( 0.625 \\) or 62.5%.\n"
   ]
  },
  {
   "cell_type": "code",
   "execution_count": 27,
   "metadata": {},
   "outputs": [
    {
     "name": "stdout",
     "output_type": "stream",
     "text": [
      "Estimated Probability: 0.6245\n"
     ]
    }
   ],
   "source": [
    "# Define the probabilities for each card type\n",
    "cards = {\n",
    "    \"white-white\": 0.2,  # 20% of cards\n",
    "    \"black-white\": 0.5,  # 50% of cards\n",
    "    \"black-black\": 0.3   # 30% of cards\n",
    "}\n",
    "\n",
    "def draw_card():\n",
    "    # Randomly select a card based on its probability\n",
    "    rand = rnd.random()\n",
    "    if rand < cards[\"white-white\"]:\n",
    "        return \"white-white\"\n",
    "    elif rand < cards[\"white-white\"] + cards[\"black-white\"]:\n",
    "        return \"black-white\"\n",
    "    else:\n",
    "        return \"black-black\"\n",
    "\n",
    "def monte_carlo_simulation(num_trials):\n",
    "    black_side_seen = 0\n",
    "    white_other_side = 0\n",
    "    \n",
    "    for _ in range(num_trials):\n",
    "        card = draw_card()\n",
    "        \n",
    "        # Only consider cases where a black side is seen\n",
    "        if \"black\" in card:\n",
    "            black_side_seen += 1\n",
    "            # Check if the other side is white\n",
    "            if card == \"black-white\":\n",
    "                white_other_side += 1\n",
    "    \n",
    "    # Probability that the other side is white given that a black side is seen\n",
    "    return white_other_side / black_side_seen\n",
    "\n",
    "# Run the simulation\n",
    "num_trials = 100000\n",
    "estimated_probability = monte_carlo_simulation(num_trials)\n",
    "print(f\"Estimated Probability: {estimated_probability:.4f}\")\n",
    "\n"
   ]
  },
  {
   "cell_type": "markdown",
   "metadata": {},
   "source": [
    "- **0 sources working**: Neither source works, so:\n",
    "\n",
    "$$\n",
    "P(0 \\text{ sources working}) = (1 - 0.4)(1 - 0.5) = 0.6 \\times 0.5 = 0.3\n",
    "$$\n",
    "\n",
    "- **1 source working**: Either source 1 works and source 2 doesn't, or source 2 works and source 1 doesn't, so:\n",
    "\n",
    "$$\n",
    "P(1 \\text{ source working}) = 0.4 \\times (1 - 0.5) + (1 - 0.4) \\times 0.5 = 0.4 \\times 0.5 + 0.6 \\times 0.5 = 0.2 + 0.3 = 0.5\n",
    "$$\n",
    "\n",
    "- **2 sources working**: Both sources work, so:\n",
    "\n",
    "$$\n",
    "P(2 \\text{ sources working}) = 0.4 \\times 0.5 = 0.2\n",
    "$$\n",
    "\n",
    "### 2. Probability that enough power will be available\n",
    "\n",
    "- **Enough power from 0 sources**: \\( P(0 \\text{ sources}) = 0 \\) (since no power is available when both fail).\n",
    "- **Enough power from 1 source**: \\( P(1 \\text{ source}) = P(1 \\text{ source working}) \\times 0.6 = 0.5 \\times 0.6 = 0.3 \\).\n",
    "- **Enough power from 2 sources**: \\( P(2 \\text{ sources}) = P(2 \\text{ sources working}) \\times 1 = 0.2 \\times 1 = 0.2 \\).\n",
    "\n",
    "Thus, the total probability that enough power will be available is:\n",
    "\n",
    "$$\n",
    "P(\\text{enough power}) = 0 + 0.3 + 0.2 = 0.5\n",
    "$$\n",
    "\n",
    "So, the probability that enough power will be available is \\( 0.5 \\) or 50%.\n"
   ]
  },
  {
   "cell_type": "code",
   "execution_count": 37,
   "metadata": {},
   "outputs": [
    {
     "data": {
      "text/plain": [
       "(array([50117., 50341., 50313., 50022., 49767., 49720., 49839., 50034.,\n",
       "        49723., 50142., 50265., 50075., 49792., 50094., 49814., 49971.,\n",
       "        50140., 49978., 50094., 49759.]),\n",
       " array([4.02540426e-07, 5.00003572e-02, 1.00000312e-01, 1.50000266e-01,\n",
       "        2.00000221e-01, 2.50000176e-01, 3.00000130e-01, 3.50000085e-01,\n",
       "        4.00000040e-01, 4.49999994e-01, 4.99999949e-01, 5.49999904e-01,\n",
       "        5.99999858e-01, 6.49999813e-01, 6.99999768e-01, 7.49999722e-01,\n",
       "        7.99999677e-01, 8.49999632e-01, 8.99999586e-01, 9.49999541e-01,\n",
       "        9.99999495e-01]),\n",
       " <BarContainer object of 20 artists>)"
      ]
     },
     "execution_count": 37,
     "metadata": {},
     "output_type": "execute_result"
    },
    {
     "data": {
      "image/png": "[encoded data removed]",
      "text/plain": [
       "<Figure size 640x480 with 1 Axes>"
      ]
     },
     "metadata": {},
     "output_type": "display_data"
    }
   ],
   "source": [
    "# create a historgram of places where rnd.random() lands\n",
    "\n",
    "a = [rnd.random() for _ in range(1000000)]\n",
    "\n",
    "# historgram of the random numbers\n",
    "\n",
    "plt.hist(a, bins=20)\n",
    "    "
   ]
  },
  {
   "cell_type": "code",
   "execution_count": null,
   "metadata": {},
   "outputs": [],
   "source": []
  }
 ],
 "metadata": {
  "kernelspec": {
   "display_name": "Python 3",
   "language": "python",
   "name": "python3"
  },
  "language_info": {
   "codemirror_mode": {
    "name": "ipython",
    "version": 3
   },
   "file_extension": ".py",
   "mimetype": "text/x-python",
   "name": "python",
   "nbconvert_exporter": "python",
   "pygments_lexer": "ipython3",
   "version": "3.9.6"
  }
 },
 "nbformat": 4,
 "nbformat_minor": 2
}
